{
 "cells": [
  {
   "cell_type": "code",
   "execution_count": 1,
   "id": "92feaad0",
   "metadata": {},
   "outputs": [
    {
     "name": "stdout",
     "output_type": "stream",
     "text": [
      "Requirement already satisfied: pyarrow in c:\\users\\user\\anaconda3\\lib\\site-packages (18.1.0)\n"
     ]
    }
   ],
   "source": [
    "#install\n",
    "!pip install pyarrow\n",
    "\n",
    "#import\n",
    "import pandas as pd\n",
    "import numpy as np\n",
    "\n",
    "%run prepare_train_test_splits.ipynb\n",
    "%run evaluate_models.ipynb\n",
    "%run availability_based_methods.ipynb"
   ]
  },
  {
   "cell_type": "code",
   "execution_count": 2,
   "id": "9c206b0e",
   "metadata": {},
   "outputs": [],
   "source": [
    "#load data\n",
    "orders=pd.read_parquet('../archive/data/orders.parquet',engine='pyarrow')\n",
    "outfits=pd.read_parquet('../archive/data/outfits.parquet',engine='pyarrow')"
   ]
  },
  {
   "cell_type": "code",
   "execution_count": 3,
   "id": "a93c678e",
   "metadata": {},
   "outputs": [
    {
     "name": "stdout",
     "output_type": "stream",
     "text": [
      "3607\n",
      "No unique outfit found with groups ['group.423a23f6717e6d85adac54c051ee9832'\n",
      " 'group.423a23f6717e6d85adac54c051ee9832']\n",
      "No unique outfit found with groups ['group.384b8170c6a6ddfd568ff7fab5fb49c4'\n",
      " 'group.384b8170c6a6ddfd568ff7fab5fb49c4']\n",
      "No unique outfit found with groups ['group.a3ab26b5d2f7ef2cf102422a3dde3b46'\n",
      " 'group.a3ab26b5d2f7ef2cf102422a3dde3b46']\n",
      "No unique outfit found with groups ['group.9b5204b87abc93f8f0467b0a6a9c6a97'\n",
      " 'group.9b5204b87abc93f8f0467b0a6a9c6a97'\n",
      " 'group.9b5204b87abc93f8f0467b0a6a9c6a97']\n",
      "No unique outfit found with groups ['group.8e50238120d13b31284f151941c2ee81'\n",
      " 'group.8e50238120d13b31284f151941c2ee81']\n",
      "No unique outfit found with groups ['group.a494d07781a1aab0e3a42989288feff2'\n",
      " 'group.a494d07781a1aab0e3a42989288feff2']\n",
      "No unique outfit found with groups ['group.a1d284ef1c7035dd14e57eba3838a303'\n",
      " 'group.a1d284ef1c7035dd14e57eba3838a303']\n",
      "No unique outfit found with groups ['group.e0cb0f6e113edc4df8a1e304376734f6'\n",
      " 'group.e0cb0f6e113edc4df8a1e304376734f6']\n",
      "No unique outfit found with groups ['group.2c7095c075561fe6278f3a2d7c1d6ac9'\n",
      " 'group.2c7095c075561fe6278f3a2d7c1d6ac9']\n",
      "No unique outfit found with groups ['group.ae8da3f0ad6f8ff3f83b2af96e975991'\n",
      " 'group.ae8da3f0ad6f8ff3f83b2af96e975991']\n",
      "No unique outfit found with groups ['group.4bd4ee24eac8948e82783b15d9404f6b'\n",
      " 'group.4bd4ee24eac8948e82783b15d9404f6b']\n",
      "No unique outfit found with groups ['group.1bfd2412df50ac58b23bd8f52c6b4b35'\n",
      " 'group.1bfd2412df50ac58b23bd8f52c6b4b35']\n",
      "No unique outfit found with groups ['group.edb60c2f440a9ac7d0883fb9371c8607'\n",
      " 'group.edb60c2f440a9ac7d0883fb9371c8607']\n"
     ]
    }
   ],
   "source": [
    "#prepare data\n",
    "\n",
    "#convert tag_categories and outfit_tags to lists\n",
    "outfits[\"tag_categories\"] = outfits[\"tag_categories\"].apply(eval)\n",
    "outfits[\"outfit_tags\"] = outfits[\"outfit_tags\"].apply(eval)\n",
    "\n",
    "outfits['group']=outfits['group'].astype(str)\n",
    "\n",
    "# Convert triplets into entries for each individual user\n",
    "orders = remove_consecutive_duplicates(orders)\n",
    "user_orders_df = translate_user_triplets_to_orders(orders, outfits)\n",
    "user_orders_df.dropna(inplace=True)\n",
    "\n",
    "# Split the data into train and test sets, with one dataframe with no restirictions on outfits in the test data and one that prohibits repeated outfits\n",
    "# It prints any cases in which it is unable to construct a test set with unique outfits.\n",
    "user_splits, user_splits_unique = convert_user_orders_to_train_test_splits(user_orders_df, percentage_test=0.3)"
   ]
  },
  {
   "cell_type": "code",
   "execution_count": 4,
   "id": "c0073a79",
   "metadata": {},
   "outputs": [
    {
     "data": {
      "text/plain": [
       "Index(['train_outfit_ids', 'test_outfit_id', 'train_group', 'test_group',\n",
       "       'train_booking_times_start', 'test_booking_time_start',\n",
       "       'train_booking_times_end', 'test_booking_time_end'],\n",
       "      dtype='object')"
      ]
     },
     "execution_count": 4,
     "metadata": {},
     "output_type": "execute_result"
    }
   ],
   "source": [
    "user_splits.columns"
   ]
  },
  {
   "cell_type": "code",
   "execution_count": 5,
   "id": "8639de8b",
   "metadata": {},
   "outputs": [
    {
     "data": {
      "text/html": [
       "<div>\n",
       "<style scoped>\n",
       "    .dataframe tbody tr th:only-of-type {\n",
       "        vertical-align: middle;\n",
       "    }\n",
       "\n",
       "    .dataframe tbody tr th {\n",
       "        vertical-align: top;\n",
       "    }\n",
       "\n",
       "    .dataframe thead th {\n",
       "        text-align: right;\n",
       "    }\n",
       "</style>\n",
       "<table border=\"1\" class=\"dataframe\">\n",
       "  <thead>\n",
       "    <tr style=\"text-align: right;\">\n",
       "      <th></th>\n",
       "      <th>train_outfit_ids</th>\n",
       "      <th>test_outfit_id</th>\n",
       "      <th>train_group</th>\n",
       "      <th>test_group</th>\n",
       "      <th>train_booking_times_start</th>\n",
       "      <th>test_booking_time_start</th>\n",
       "      <th>train_booking_times_end</th>\n",
       "      <th>test_booking_time_end</th>\n",
       "    </tr>\n",
       "  </thead>\n",
       "  <tbody>\n",
       "    <tr>\n",
       "      <th>0</th>\n",
       "      <td>[outfit.85f26909d8334ab78f30c2fc9c73faf7, outf...</td>\n",
       "      <td>[outfit.9f5058295098471abdfaf0a7c74ddbfe]</td>\n",
       "      <td>[group.c79c907b6c94a9bd2005e038943ab529, group...</td>\n",
       "      <td>[group.f6f0b9ebb3228aab27a79ac658c76682]</td>\n",
       "      <td>[2023-11-22 00:00:00, 2023-11-24 00:00:00, 202...</td>\n",
       "      <td>[2023-12-06 00:00:00]</td>\n",
       "      <td>[2023-12-21 00:00:00, 2023-12-23 00:00:00, 202...</td>\n",
       "      <td>[2024-01-05 00:00:00]</td>\n",
       "    </tr>\n",
       "    <tr>\n",
       "      <th>1</th>\n",
       "      <td>[outfit.d7bff1b799a34575a47ce0f531791c9f, outf...</td>\n",
       "      <td>[outfit.98fa1b5287182a9d, outfit.dd04098010f74...</td>\n",
       "      <td>[group.287dba5268fb7b20e8ef81c053970691, group...</td>\n",
       "      <td>[group.a4449ee16d7951f425083623efd0dcec, group...</td>\n",
       "      <td>[2021-08-02 00:00:00, 2021-08-02 00:00:00, 202...</td>\n",
       "      <td>[2021-11-01 00:00:00, 2021-12-01 00:00:00, 202...</td>\n",
       "      <td>[2021-08-27 00:00:00, 2021-08-27 00:00:00, 202...</td>\n",
       "      <td>[2021-11-30 00:00:00, 2021-12-31 00:00:00, 202...</td>\n",
       "    </tr>\n",
       "    <tr>\n",
       "      <th>2</th>\n",
       "      <td>[outfit.9fde090f117fb9d9]</td>\n",
       "      <td>[outfit.849ace7e1811150d]</td>\n",
       "      <td>[group.27808d969027a4e243c8945176f280c0]</td>\n",
       "      <td>[group.caafbed55494b0c93dab58d58d526f0a]</td>\n",
       "      <td>[2018-09-06 00:00:00]</td>\n",
       "      <td>[2018-09-06 00:00:00]</td>\n",
       "      <td>[2018-09-09 00:00:00]</td>\n",
       "      <td>[2018-09-09 00:00:00]</td>\n",
       "    </tr>\n",
       "    <tr>\n",
       "      <th>3</th>\n",
       "      <td>[outfit.98eebea274f23dd6, outfit.648db79508724...</td>\n",
       "      <td>[outfit.b2c68e50868a46a8872e81bcd3a17870, outf...</td>\n",
       "      <td>[group.a02de08741b879719c3ea97e24e5f230, group...</td>\n",
       "      <td>[group.69217601bce159dcf21b4c8e6f059f42, group...</td>\n",
       "      <td>[2021-08-25 00:00:00, 2021-08-25 00:00:00, 202...</td>\n",
       "      <td>[2022-02-28 00:00:00, 2022-02-28 00:00:00, 202...</td>\n",
       "      <td>[2021-09-24 00:00:00, 2021-09-24 00:00:00, 202...</td>\n",
       "      <td>[2022-03-28 00:00:00, 2022-03-28 00:00:00, 202...</td>\n",
       "    </tr>\n",
       "    <tr>\n",
       "      <th>4</th>\n",
       "      <td>[outfit.5e1b9778e36d475699772148e5d4e27b, outf...</td>\n",
       "      <td>[outfit.7321c26a479e46cd9fb07fa3ab7d7594]</td>\n",
       "      <td>[group.0a736bffd33390d7693442e6eecd0f35, group...</td>\n",
       "      <td>[group.cce63b3a8de0f3495c0744990e88b78f]</td>\n",
       "      <td>[2019-11-20 00:00:00, 2019-11-20 00:00:00]</td>\n",
       "      <td>[2019-11-20 00:00:00]</td>\n",
       "      <td>[2019-11-21 00:00:00, 2019-11-21 00:00:00]</td>\n",
       "      <td>[2019-11-21 00:00:00]</td>\n",
       "    </tr>\n",
       "  </tbody>\n",
       "</table>\n",
       "</div>"
      ],
      "text/plain": [
       "                                    train_outfit_ids  \\\n",
       "0  [outfit.85f26909d8334ab78f30c2fc9c73faf7, outf...   \n",
       "1  [outfit.d7bff1b799a34575a47ce0f531791c9f, outf...   \n",
       "2                          [outfit.9fde090f117fb9d9]   \n",
       "3  [outfit.98eebea274f23dd6, outfit.648db79508724...   \n",
       "4  [outfit.5e1b9778e36d475699772148e5d4e27b, outf...   \n",
       "\n",
       "                                      test_outfit_id  \\\n",
       "0          [outfit.9f5058295098471abdfaf0a7c74ddbfe]   \n",
       "1  [outfit.98fa1b5287182a9d, outfit.dd04098010f74...   \n",
       "2                          [outfit.849ace7e1811150d]   \n",
       "3  [outfit.b2c68e50868a46a8872e81bcd3a17870, outf...   \n",
       "4          [outfit.7321c26a479e46cd9fb07fa3ab7d7594]   \n",
       "\n",
       "                                         train_group  \\\n",
       "0  [group.c79c907b6c94a9bd2005e038943ab529, group...   \n",
       "1  [group.287dba5268fb7b20e8ef81c053970691, group...   \n",
       "2           [group.27808d969027a4e243c8945176f280c0]   \n",
       "3  [group.a02de08741b879719c3ea97e24e5f230, group...   \n",
       "4  [group.0a736bffd33390d7693442e6eecd0f35, group...   \n",
       "\n",
       "                                          test_group  \\\n",
       "0           [group.f6f0b9ebb3228aab27a79ac658c76682]   \n",
       "1  [group.a4449ee16d7951f425083623efd0dcec, group...   \n",
       "2           [group.caafbed55494b0c93dab58d58d526f0a]   \n",
       "3  [group.69217601bce159dcf21b4c8e6f059f42, group...   \n",
       "4           [group.cce63b3a8de0f3495c0744990e88b78f]   \n",
       "\n",
       "                           train_booking_times_start  \\\n",
       "0  [2023-11-22 00:00:00, 2023-11-24 00:00:00, 202...   \n",
       "1  [2021-08-02 00:00:00, 2021-08-02 00:00:00, 202...   \n",
       "2                              [2018-09-06 00:00:00]   \n",
       "3  [2021-08-25 00:00:00, 2021-08-25 00:00:00, 202...   \n",
       "4         [2019-11-20 00:00:00, 2019-11-20 00:00:00]   \n",
       "\n",
       "                             test_booking_time_start  \\\n",
       "0                              [2023-12-06 00:00:00]   \n",
       "1  [2021-11-01 00:00:00, 2021-12-01 00:00:00, 202...   \n",
       "2                              [2018-09-06 00:00:00]   \n",
       "3  [2022-02-28 00:00:00, 2022-02-28 00:00:00, 202...   \n",
       "4                              [2019-11-20 00:00:00]   \n",
       "\n",
       "                             train_booking_times_end  \\\n",
       "0  [2023-12-21 00:00:00, 2023-12-23 00:00:00, 202...   \n",
       "1  [2021-08-27 00:00:00, 2021-08-27 00:00:00, 202...   \n",
       "2                              [2018-09-09 00:00:00]   \n",
       "3  [2021-09-24 00:00:00, 2021-09-24 00:00:00, 202...   \n",
       "4         [2019-11-21 00:00:00, 2019-11-21 00:00:00]   \n",
       "\n",
       "                               test_booking_time_end  \n",
       "0                              [2024-01-05 00:00:00]  \n",
       "1  [2021-11-30 00:00:00, 2021-12-31 00:00:00, 202...  \n",
       "2                              [2018-09-09 00:00:00]  \n",
       "3  [2022-03-28 00:00:00, 2022-03-28 00:00:00, 202...  \n",
       "4                              [2019-11-21 00:00:00]  "
      ]
     },
     "execution_count": 5,
     "metadata": {},
     "output_type": "execute_result"
    }
   ],
   "source": [
    "user_splits.head()"
   ]
  },
  {
   "cell_type": "code",
   "execution_count": 6,
   "id": "09b64bb8",
   "metadata": {},
   "outputs": [
    {
     "data": {
      "text/html": [
       "<div>\n",
       "<style scoped>\n",
       "    .dataframe tbody tr th:only-of-type {\n",
       "        vertical-align: middle;\n",
       "    }\n",
       "\n",
       "    .dataframe tbody tr th {\n",
       "        vertical-align: top;\n",
       "    }\n",
       "\n",
       "    .dataframe thead th {\n",
       "        text-align: right;\n",
       "    }\n",
       "</style>\n",
       "<table border=\"1\" class=\"dataframe\">\n",
       "  <thead>\n",
       "    <tr style=\"text-align: right;\">\n",
       "      <th></th>\n",
       "      <th>customer.id</th>\n",
       "      <th>outfit.id</th>\n",
       "      <th>rentalPeriod.start</th>\n",
       "      <th>rentalPeriod.end</th>\n",
       "      <th>group</th>\n",
       "    </tr>\n",
       "  </thead>\n",
       "  <tbody>\n",
       "    <tr>\n",
       "      <th>0</th>\n",
       "      <td>3945</td>\n",
       "      <td>outfit.923f3fd476b5450b9582d1f525604546</td>\n",
       "      <td>2018-05-25</td>\n",
       "      <td>2018-05-28</td>\n",
       "      <td>group.6f394f7e504a39f26ca691fb02e5ed22</td>\n",
       "    </tr>\n",
       "    <tr>\n",
       "      <th>1</th>\n",
       "      <td>4088</td>\n",
       "      <td>outfit.8c8e922e228ba03f</td>\n",
       "      <td>2019-08-29</td>\n",
       "      <td>2019-09-02</td>\n",
       "      <td>group.9e3f83b7a4adb80992eee691fc83403f</td>\n",
       "    </tr>\n",
       "    <tr>\n",
       "      <th>2</th>\n",
       "      <td>4360</td>\n",
       "      <td>outfit.96f152543e7668ae</td>\n",
       "      <td>2018-08-10</td>\n",
       "      <td>2018-08-13</td>\n",
       "      <td>group.32ebcc4a2acfe62819949bb3b6c9256b</td>\n",
       "    </tr>\n",
       "    <tr>\n",
       "      <th>3</th>\n",
       "      <td>4697</td>\n",
       "      <td>outfit.ddba05a5ced34fa1ab3a0722c05bb11a</td>\n",
       "      <td>2018-06-14</td>\n",
       "      <td>2018-06-19</td>\n",
       "      <td>group.27f89b2927dbb3def926fa21ac1bdd26</td>\n",
       "    </tr>\n",
       "    <tr>\n",
       "      <th>4</th>\n",
       "      <td>3890</td>\n",
       "      <td>outfit.5ef01d4dc15243fb854ca797716fd663</td>\n",
       "      <td>2019-08-24</td>\n",
       "      <td>2019-08-27</td>\n",
       "      <td>group.9ba8ee768fcc2ca9c7dee05b23b7daa0</td>\n",
       "    </tr>\n",
       "  </tbody>\n",
       "</table>\n",
       "</div>"
      ],
      "text/plain": [
       "   customer.id                                outfit.id rentalPeriod.start  \\\n",
       "0         3945  outfit.923f3fd476b5450b9582d1f525604546         2018-05-25   \n",
       "1         4088                  outfit.8c8e922e228ba03f         2019-08-29   \n",
       "2         4360                  outfit.96f152543e7668ae         2018-08-10   \n",
       "3         4697  outfit.ddba05a5ced34fa1ab3a0722c05bb11a         2018-06-14   \n",
       "4         3890  outfit.5ef01d4dc15243fb854ca797716fd663         2019-08-24   \n",
       "\n",
       "  rentalPeriod.end                                   group  \n",
       "0       2018-05-28  group.6f394f7e504a39f26ca691fb02e5ed22  \n",
       "1       2019-09-02  group.9e3f83b7a4adb80992eee691fc83403f  \n",
       "2       2018-08-13  group.32ebcc4a2acfe62819949bb3b6c9256b  \n",
       "3       2018-06-19  group.27f89b2927dbb3def926fa21ac1bdd26  \n",
       "4       2019-08-27  group.9ba8ee768fcc2ca9c7dee05b23b7daa0  "
      ]
     },
     "execution_count": 6,
     "metadata": {},
     "output_type": "execute_result"
    }
   ],
   "source": [
    "orders.head()"
   ]
  },
  {
   "cell_type": "code",
   "execution_count": 7,
   "id": "542d22ff",
   "metadata": {},
   "outputs": [],
   "source": [
    "# Assorted functions for building simple heuristics for recommender systems\n",
    "\n",
    "def get_most_popular_outfits(df, n=10):\n",
    "    most_popular_train_outfit_ids = df[\"train_outfit_ids\"].explode().value_counts().index[:n]\n",
    "    most_popular_train_groups = df[\"train_group\"].explode().value_counts().index[:n]\n",
    "\n",
    "    return np.array(most_popular_train_outfit_ids), np.array(most_popular_train_groups)\n",
    "\n",
    "def get_previous_rentals(df, n=10):\n",
    "    df[\"id_prediction\"] = df[\"train_outfit_ids\"].apply(lambda x: x if len(x) < n else x[n:])\n",
    "    df[\"group_prediction\"] = df[\"train_group\"].apply(lambda x: x if len(x) < n else x[n:])\n",
    "\n",
    "    return df\n",
    "\n",
    "def pad_with_most_popular(x, pop_outfits, n=10):\n",
    "    if len(x) < n:\n",
    "        return np.append(x, pop_outfits[:n - len(x)])\n",
    "    else:\n",
    "        return x[:n]\n",
    "\n",
    "def get_previous_rentals_pad_most_popular(df, n=10):\n",
    "    most_popular_train_outfit_ids, most_popular_train_groups = get_most_popular_outfits(df, n)\n",
    "    df[\"id_prediction\"] = df.apply(lambda x: pad_with_most_popular(x[\"train_outfit_ids\"], most_popular_train_outfit_ids, n), axis=1)\n",
    "    df[\"group_prediction\"] = df.apply(lambda x: pad_with_most_popular(x[\"train_group\"], most_popular_train_groups, n), axis=1)\n",
    "    return df"
   ]
  },
  {
   "cell_type": "code",
   "execution_count": 8,
   "id": "53b47fc1",
   "metadata": {},
   "outputs": [],
   "source": [
    "# The maximum number of items to recommend\n",
    "NUM_ITEMS = 100\n",
    "\n",
    "# The below code represents the four baseline methods discussed.\n",
    "\n",
    "\"\"\"\n",
    "- availability_based determines whether to filter out clothes that are currently rented\n",
    "- use_testing_time determines whether we are currently testing the system or making real predictions\n",
    "    (True is used to test the system), only used if availability_based = True\"\"\"\n",
    "\n",
    "# Most popular outfits prediction\n",
    "def predict_most_popular(user_splits_df_pop, user_splits_unique_df_pop,availability_based=True,use_testing_time=True):\n",
    "    most_popular_train_outfit_ids_pop, most_popular_train_groups_pop = get_most_popular_outfits(user_splits_df_pop, NUM_ITEMS)\n",
    "    user_splits_df_pop[\"id_prediction\"] = [most_popular_train_outfit_ids_pop] * len(user_splits_df_pop)\n",
    "    user_splits_df_pop[\"group_prediction\"] = [most_popular_train_groups_pop] * len(user_splits_df_pop)\n",
    "    most_popular_train_outfit_ids_pop, most_popular_train_groups_pop = get_most_popular_outfits(user_splits_unique_df_pop, NUM_ITEMS)\n",
    "    user_splits_unique_df_pop[\"id_prediction\"] = [most_popular_train_outfit_ids_pop] * len(user_splits_unique_df_pop)\n",
    "    user_splits_unique_df_pop[\"group_prediction\"] = [most_popular_train_groups_pop] * len(user_splits_unique_df_pop)\n",
    "    if availability_based==True:\n",
    "        user_splits_df_pop=availability_based_filter(user_splits_df_pop,use_testing_time)\n",
    "        user_splits_unique_df_pop=availability_based_filter(user_splits_unique_df_pop,use_testing_time)\n",
    "    return user_splits_df_pop, user_splits_unique_df_pop\n",
    "\n",
    "# Previous rental prediction\n",
    "def predict_previous_rental(user_splits_df_rep, user_splits_unique_df_rep,availability_based=True,use_testing_time=True):\n",
    "    user_splits_df_rep[\"id_prediction\"] = user_splits_df_rep[\"train_outfit_ids\"].apply(lambda x: x[-NUM_ITEMS:])\n",
    "    user_splits_df_rep[\"group_prediction\"] = user_splits_df_rep[\"train_group\"].apply(lambda x: x[-NUM_ITEMS:])\n",
    "    user_splits_unique_df_rep[\"id_prediction\"] = user_splits_unique_df_rep[\"train_outfit_ids\"].apply(lambda x: x if len(x) <= NUM_ITEMS else x[-NUM_ITEMS:])\n",
    "    user_splits_unique_df_rep[\"group_prediction\"] = user_splits_unique_df_rep[\"train_group\"].apply(lambda x: x if len(x) <= NUM_ITEMS else x[-NUM_ITEMS:])\n",
    "    if availability_based==True:\n",
    "        user_splits_df_rep=availability_based_filter(user_splits_df_rep,use_testing_time)\n",
    "        user_splits_unique_df_rep=availability_based_filter(user_splits_unique_df_rep,use_testing_time)\n",
    "    return user_splits_df_rep, user_splits_unique_df_rep\n",
    "\n",
    "# Previous rental + most popular outfits prediction\n",
    "def predict_rental_and_most_popular(user_splits_df, user_splits_unique_df,availability_based=True,use_testing_time=True):\n",
    "    def pad_with_most_popular(x, pop_outfits):\n",
    "        if len(x) < NUM_ITEMS:\n",
    "            return np.append(x, pop_outfits[:NUM_ITEMS - len(x)])\n",
    "        else:\n",
    "            return x[-NUM_ITEMS:]\n",
    "\n",
    "    most_popular_train_outfit_ids, most_popular_train_groups = get_most_popular_outfits(user_splits_df, NUM_ITEMS)\n",
    "    user_splits_df[\"id_prediction\"] = user_splits_df.apply(lambda x: pad_with_most_popular(x[\"train_outfit_ids\"], most_popular_train_outfit_ids), axis=1)\n",
    "    user_splits_df[\"group_prediction\"] = user_splits_df.apply(lambda x: pad_with_most_popular(x[\"train_group\"], most_popular_train_groups), axis=1)\n",
    "    user_splits_unique_df[\"id_prediction\"] = user_splits_unique_df.apply(lambda x: pad_with_most_popular(x[\"train_outfit_ids\"], most_popular_train_outfit_ids), axis=1)\n",
    "    user_splits_unique_df[\"group_prediction\"] = user_splits_unique_df.apply(lambda x: pad_with_most_popular(x[\"train_group\"], most_popular_train_groups), axis=1)\n",
    "    if availability_based==True:\n",
    "        user_splits_df=availability_based_filter(user_splits_df,use_testing_time)\n",
    "        user_splits_unique_df=availability_based_filter(user_splits_unique_df,use_testing_time)\n",
    "    return user_splits_df, user_splits_unique_df\n",
    "\n",
    "# Random prediction\n",
    "def predict_random_outfit(user_splits_df_rand, user_splits_unique_df_rand,availability_based=True,use_testing_time=True):\n",
    "    def get_random_outfits(x):\n",
    "        return np.random.choice(all_outfit_ids_rand, NUM_ITEMS, replace=False)\n",
    "    all_outfit_ids_rand = outfits[\"id\"].values\n",
    "    all_groups_rand = outfits[\"group\"].values\n",
    "    user_splits_df_rand[\"id_prediction\"] = user_splits_df_rand.apply(lambda x: get_random_outfits(x), axis=1)\n",
    "    user_splits_df_rand[\"group_prediction\"] = user_splits_df_rand.apply(lambda x: np.random.choice(all_groups_rand, NUM_ITEMS, replace=False), axis=1)\n",
    "    user_splits_unique_df_rand[\"id_prediction\"] = user_splits_unique_df_rand.apply(lambda x: get_random_outfits(x), axis=1)\n",
    "    user_splits_unique_df_rand[\"group_prediction\"] = user_splits_unique_df_rand.apply(lambda x: np.random.choice(all_groups_rand, NUM_ITEMS, replace=False), axis=1)\n",
    "    if availability_based==True:\n",
    "        user_splits_df_rand=availability_based_filter(user_splits_df_rand,use_testing_time)\n",
    "        user_splits_unique_df_rand=availability_based_filter(user_splits_unique_df_rand,use_testing_time)\n",
    "    return user_splits_df_rand, user_splits_unique_df_rand"
   ]
  },
  {
   "cell_type": "code",
   "execution_count": 9,
   "id": "f1bc59b5",
   "metadata": {},
   "outputs": [
    {
     "name": "stdout",
     "output_type": "stream",
     "text": [
      "Baseline evaluation for method:  Most popular\n"
     ]
    },
    {
     "data": {
      "text/plain": [
       "id_hit_rate_at_100       0.117252\n",
       "id_hit_rate_at_10        0.021952\n",
       "group_hit_rate_at_100    0.206870\n",
       "group_hit_rate_at_10     0.044163\n",
       "dtype: float64"
      ]
     },
     "metadata": {},
     "output_type": "display_data"
    },
    {
     "data": {
      "text/plain": [
       "id_hit_rate_at_100       0.116870\n",
       "id_hit_rate_at_10        0.021767\n",
       "group_hit_rate_at_100    0.205494\n",
       "group_hit_rate_at_10     0.044312\n",
       "dtype: float64"
      ]
     },
     "metadata": {},
     "output_type": "display_data"
    }
   ],
   "source": [
    "#predict and evaluat for method  Most popular \n",
    "user_splits_df_pop, user_splits_unique_df_pop = predict_most_popular(user_splits, user_splits_unique,availability_based=False)\n",
    "print(f\"Baseline evaluation for method:  Most popular\")\n",
    "user_splits_df_pop, all_dict_pop = evaluate_df_hit_rate_at_n(user_splits_df_pop, n=10)\n",
    "user_splits_unique_df_pop, ind_dict_pop = evaluate_df_hit_rate_at_n(user_splits_unique_df_pop, n=10)"
   ]
  },
  {
   "cell_type": "code",
   "execution_count": 10,
   "id": "d3aef2c0",
   "metadata": {},
   "outputs": [
    {
     "name": "stdout",
     "output_type": "stream",
     "text": [
      "Baseline evaluation for method:  Most popular\n"
     ]
    },
    {
     "data": {
      "text/plain": [
       "id_hit_rate_at_100       0.117252\n",
       "id_hit_rate_at_10        0.021952\n",
       "group_hit_rate_at_100    0.206870\n",
       "group_hit_rate_at_10     0.044163\n",
       "dtype: float64"
      ]
     },
     "metadata": {},
     "output_type": "display_data"
    },
    {
     "data": {
      "text/plain": [
       "id_hit_rate_at_100       0.116870\n",
       "id_hit_rate_at_10        0.021767\n",
       "group_hit_rate_at_100    0.205494\n",
       "group_hit_rate_at_10     0.044312\n",
       "dtype: float64"
      ]
     },
     "metadata": {},
     "output_type": "display_data"
    }
   ],
   "source": [
    "#predict and evaluat for method Most popular with availability_based\n",
    "user_splits_df_pop, user_splits_unique_df_pop = predict_most_popular(user_splits, user_splits_unique,availability_based=True, use_testing_time=True)\n",
    "print(f\"Baseline evaluation for method:  Most popular\")\n",
    "user_splits_df_pop, all_dict_pop = evaluate_df_hit_rate_at_n(user_splits_df_pop, n=10)\n",
    "user_splits_unique_df_pop, ind_dict_pop = evaluate_df_hit_rate_at_n(user_splits_unique_df_pop, n=10)"
   ]
  },
  {
   "cell_type": "code",
   "execution_count": 12,
   "id": "11aba6af",
   "metadata": {},
   "outputs": [
    {
     "name": "stdout",
     "output_type": "stream",
     "text": [
      "Baseline evaluation for method: Previous rental\n"
     ]
    },
    {
     "data": {
      "text/plain": [
       "id_hit_rate_at_100       0.125775\n",
       "id_hit_rate_at_10        0.055527\n",
       "group_hit_rate_at_100    0.153151\n",
       "group_hit_rate_at_10     0.077221\n",
       "dtype: float64"
      ]
     },
     "metadata": {},
     "output_type": "display_data"
    },
    {
     "data": {
      "text/plain": [
       "id_hit_rate_at_100       0.123089\n",
       "id_hit_rate_at_10        0.052604\n",
       "group_hit_rate_at_100    0.150298\n",
       "group_hit_rate_at_10     0.074112\n",
       "dtype: float64"
      ]
     },
     "metadata": {},
     "output_type": "display_data"
    }
   ],
   "source": [
    "#predict and evaluat for method Previous rental\n",
    "user_splits_df_rep, user_splits_unique_df_rep = predict_previous_rental(user_splits, user_splits_unique,availability_based=False)\n",
    "print(f\"Baseline evaluation for method: Previous rental\")\n",
    "user_splits_df_rep, all_dict_rep = evaluate_df_hit_rate_at_n(user_splits_df_rep, n=10)\n",
    "user_splits_unique_df_rep, ind_dict_rep = evaluate_df_hit_rate_at_n(user_splits_unique_df_rep, n=10)"
   ]
  },
  {
   "cell_type": "code",
   "execution_count": 13,
   "id": "a65a4357",
   "metadata": {
    "scrolled": true
   },
   "outputs": [
    {
     "name": "stdout",
     "output_type": "stream",
     "text": [
      "Baseline evaluation for method: Previous rental\n"
     ]
    },
    {
     "data": {
      "text/plain": [
       "id_hit_rate_at_100       0.125775\n",
       "id_hit_rate_at_10        0.055527\n",
       "group_hit_rate_at_100    0.153151\n",
       "group_hit_rate_at_10     0.077221\n",
       "dtype: float64"
      ]
     },
     "metadata": {},
     "output_type": "display_data"
    },
    {
     "data": {
      "text/plain": [
       "id_hit_rate_at_100       0.123089\n",
       "id_hit_rate_at_10        0.052604\n",
       "group_hit_rate_at_100    0.150298\n",
       "group_hit_rate_at_10     0.074112\n",
       "dtype: float64"
      ]
     },
     "metadata": {},
     "output_type": "display_data"
    }
   ],
   "source": [
    "#predict and evaluat for method Previous rental with availability_based\n",
    "del user_splits_unique_df_rep\n",
    "user_splits_df_rep, user_splits_unique_df_rep = predict_previous_rental(user_splits, user_splits_unique,availability_based=True, use_testing_time=True)\n",
    "print(f\"Baseline evaluation for method: Previous rental\")\n",
    "user_splits_df_rep, all_dict_rep = evaluate_df_hit_rate_at_n(user_splits_df_rep, n=10)\n",
    "user_splits_unique_df_rep, ind_dict_rep = evaluate_df_hit_rate_at_n(user_splits_unique_df_rep, n=10)"
   ]
  },
  {
   "cell_type": "code",
   "execution_count": 14,
   "id": "ed6527d9",
   "metadata": {},
   "outputs": [
    {
     "name": "stdout",
     "output_type": "stream",
     "text": [
      "Baseline evaluation for method: Previous rental + Most popular\n"
     ]
    },
    {
     "data": {
      "text/plain": [
       "id_hit_rate_at_100       0.197572\n",
       "id_hit_rate_at_10        0.062242\n",
       "group_hit_rate_at_100    0.262913\n",
       "group_hit_rate_at_10     0.080062\n",
       "dtype: float64"
      ]
     },
     "metadata": {},
     "output_type": "display_data"
    },
    {
     "data": {
      "text/plain": [
       "id_hit_rate_at_100       0.195128\n",
       "id_hit_rate_at_10        0.059342\n",
       "group_hit_rate_at_100    0.260430\n",
       "group_hit_rate_at_10     0.076963\n",
       "dtype: float64"
      ]
     },
     "metadata": {},
     "output_type": "display_data"
    }
   ],
   "source": [
    "#predict and evaluat for method Previous rental + Most popular\n",
    "user_splits_df_rep_pop, user_splits_unique_df_rep_pop = predict_rental_and_most_popular(user_splits, user_splits_unique,availability_based=False)\n",
    "print(f\"Baseline evaluation for method: Previous rental + Most popular\")\n",
    "user_splits_df_rep_pop, all_dict_rep_pop = evaluate_df_hit_rate_at_n(user_splits_df_rep_pop, n=10)\n",
    "user_splits_unique_df_rep_pop, ind_dict_rep_pop = evaluate_df_hit_rate_at_n(user_splits_unique_df_rep_pop, n=10)"
   ]
  },
  {
   "cell_type": "code",
   "execution_count": 15,
   "id": "7cc9af84",
   "metadata": {},
   "outputs": [
    {
     "name": "stdout",
     "output_type": "stream",
     "text": [
      "Baseline evaluation for method: Previous rental + Most popular\n"
     ]
    },
    {
     "data": {
      "text/plain": [
       "id_hit_rate_at_100       0.197572\n",
       "id_hit_rate_at_10        0.062242\n",
       "group_hit_rate_at_100    0.262913\n",
       "group_hit_rate_at_10     0.080062\n",
       "dtype: float64"
      ]
     },
     "metadata": {},
     "output_type": "display_data"
    },
    {
     "data": {
      "text/plain": [
       "id_hit_rate_at_100       0.195128\n",
       "id_hit_rate_at_10        0.059342\n",
       "group_hit_rate_at_100    0.260430\n",
       "group_hit_rate_at_10     0.076963\n",
       "dtype: float64"
      ]
     },
     "metadata": {},
     "output_type": "display_data"
    }
   ],
   "source": [
    "#predict and evaluat for method Previous rental + Most popular with ,availability_based\n",
    "user_splits_df_rep_pop, user_splits_unique_df_rep_pop = predict_rental_and_most_popular(user_splits, user_splits_unique,availability_based=True, use_testing_time=True)\n",
    "print(f\"Baseline evaluation for method: Previous rental + Most popular\")\n",
    "user_splits_df_rep_pop, all_dict_rep_pop = evaluate_df_hit_rate_at_n(user_splits_df_rep_pop, n=10)\n",
    "user_splits_unique_df_rep_pop, ind_dict_rep_pop = evaluate_df_hit_rate_at_n(user_splits_unique_df_rep_pop, n=10)"
   ]
  },
  {
   "cell_type": "code",
   "execution_count": 16,
   "id": "ebd43129",
   "metadata": {},
   "outputs": [
    {
     "name": "stdout",
     "output_type": "stream",
     "text": [
      "Baseline evaluation for method: Random\n"
     ]
    },
    {
     "data": {
      "text/plain": [
       "id_hit_rate_at_100       0.030992\n",
       "id_hit_rate_at_10        0.003099\n",
       "group_hit_rate_at_100    0.068957\n",
       "group_hit_rate_at_10     0.007748\n",
       "dtype: float64"
      ]
     },
     "metadata": {},
     "output_type": "display_data"
    },
    {
     "data": {
      "text/plain": [
       "id_hit_rate_at_100       0.030578\n",
       "id_hit_rate_at_10        0.002850\n",
       "group_hit_rate_at_100    0.072299\n",
       "group_hit_rate_at_10     0.009070\n",
       "dtype: float64"
      ]
     },
     "metadata": {},
     "output_type": "display_data"
    }
   ],
   "source": [
    "#predict and evaluat for method Random\n",
    "user_splits_df_rand, user_splits_unique_df_rand = predict_random_outfit(user_splits, user_splits_unique,availability_based=False)\n",
    "print(f\"Baseline evaluation for method: Random\")\n",
    "user_splits_df_rand, all_dict_rand = evaluate_df_hit_rate_at_n(user_splits_df_rand, n=10)\n",
    "user_splits_unique_df_rand, ind_dict_rand = evaluate_df_hit_rate_at_n(user_splits_unique_df_rand, n=10)"
   ]
  },
  {
   "cell_type": "code",
   "execution_count": 17,
   "id": "4529b989",
   "metadata": {},
   "outputs": [
    {
     "name": "stdout",
     "output_type": "stream",
     "text": [
      "Baseline evaluation for method: Random\n"
     ]
    },
    {
     "data": {
      "text/plain": [
       "id_hit_rate_at_100       0.032025\n",
       "id_hit_rate_at_10        0.003357\n",
       "group_hit_rate_at_100    0.069215\n",
       "group_hit_rate_at_10     0.011364\n",
       "dtype: float64"
      ]
     },
     "metadata": {},
     "output_type": "display_data"
    },
    {
     "data": {
      "text/plain": [
       "id_hit_rate_at_100       0.031614\n",
       "id_hit_rate_at_10        0.003887\n",
       "group_hit_rate_at_100    0.069966\n",
       "group_hit_rate_at_10     0.010884\n",
       "dtype: float64"
      ]
     },
     "metadata": {},
     "output_type": "display_data"
    }
   ],
   "source": [
    "#predict and evaluat for method Random with ,availability_based\n",
    "user_splits_df_rand, user_splits_unique_df_rand = predict_random_outfit(user_splits, user_splits_unique,availability_based=True, use_testing_time=True)\n",
    "print(f\"Baseline evaluation for method: Random\")\n",
    "user_splits_df_rand, all_dict_rand = evaluate_df_hit_rate_at_n(user_splits_df_rand, n=10)\n",
    "user_splits_unique_df_rand, ind_dict_rand = evaluate_df_hit_rate_at_n(user_splits_unique_df_rand, n=10)"
   ]
  },
  {
   "cell_type": "code",
   "execution_count": null,
   "id": "bf3ab978",
   "metadata": {},
   "outputs": [],
   "source": []
  }
 ],
 "metadata": {
  "kernelspec": {
   "display_name": "Python 3 (ipykernel)",
   "language": "python",
   "name": "python3"
  },
  "language_info": {
   "codemirror_mode": {
    "name": "ipython",
    "version": 3
   },
   "file_extension": ".py",
   "mimetype": "text/x-python",
   "name": "python",
   "nbconvert_exporter": "python",
   "pygments_lexer": "ipython3",
   "version": "3.9.13"
  }
 },
 "nbformat": 4,
 "nbformat_minor": 5
}
