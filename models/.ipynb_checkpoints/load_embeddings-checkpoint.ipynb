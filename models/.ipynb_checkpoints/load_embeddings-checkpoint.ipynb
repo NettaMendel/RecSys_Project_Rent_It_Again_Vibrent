{
 "cells": [
  {
   "cell_type": "code",
   "execution_count": 1,
   "id": "9451fe8a",
   "metadata": {},
   "outputs": [],
   "source": [
    "#import\n",
    "from tqdm.notebook import tqdm\n",
    "import numpy as np\n",
    "import pandas as pd\n",
    "import os\n",
    "import pickle"
   ]
  },
  {
   "cell_type": "code",
   "execution_count": 4,
   "id": "86dac610",
   "metadata": {},
   "outputs": [],
   "source": [
    "LOCAL_EMBEDDINGS_FOLDER_PATH = f\"../archive/embeddings/\"\n",
    "EMBEDDING_MODEL_NAME = \"EfficientNet_V2_L_final\"\n",
    "COMPUTED_EMBEDDINGS_PATH = f\"{LOCAL_EMBEDDINGS_FOLDER_PATH}{EMBEDDING_MODEL_NAME}\"\n",
    "EMBEDDING_MODEL_PICKLE_PATH = f\"{LOCAL_EMBEDDINGS_FOLDER_PATH}{EMBEDDING_MODEL_NAME}.pkl\"\n",
    "EMBEDDING_MODEL_DICT_PICKLE_PATH = f\"{LOCAL_EMBEDDINGS_FOLDER_PATH}{EMBEDDING_MODEL_NAME}_dict.pkl\""
   ]
  },
  {
   "cell_type": "code",
   "execution_count": 3,
   "id": "e36ebf20",
   "metadata": {},
   "outputs": [],
   "source": [
    "# Load each of the embeddings from the embeddings folder, and return them in a dictionary with the hash as the key\n",
    "def load_embeddings_from_folder():\n",
    "    saved_embeddings = os.listdir(COMPUTED_EMBEDDINGS_PATH)\n",
    "    embeddings_dict = {}\n",
    "    for embedding in tqdm(saved_embeddings):\n",
    "        embedding_name = \".\".join(embedding.split(\".\")[:-1])\n",
    "        embeddings_dict[embedding_name] = np.load(os.path.join(COMPUTED_EMBEDDINGS_PATH, embedding))\n",
    "    return embeddings_dict\n",
    "\n",
    "def load_embeddings_from_pickle():\n",
    "    embeddings_df = pd.read_pickle(EMBEDDING_MODEL_PICKLE_PATH)\n",
    "    embeddings_df = embeddings_df.groupby(\"outfit.id\").agg({\"picture.id\": list, \"embeddings\": list}).reset_index()\n",
    "    return embeddings_df"
   ]
  },
  {
   "cell_type": "code",
   "execution_count": null,
   "id": "8f6122c9",
   "metadata": {},
   "outputs": [],
   "source": []
  }
 ],
 "metadata": {
  "kernelspec": {
   "display_name": "Python 3 (ipykernel)",
   "language": "python",
   "name": "python3"
  },
  "language_info": {
   "codemirror_mode": {
    "name": "ipython",
    "version": 3
   },
   "file_extension": ".py",
   "mimetype": "text/x-python",
   "name": "python",
   "nbconvert_exporter": "python",
   "pygments_lexer": "ipython3",
   "version": "3.9.13"
  }
 },
 "nbformat": 4,
 "nbformat_minor": 5
}
