{
 "cells": [
  {
   "cell_type": "code",
   "execution_count": 1,
   "id": "5619a81f-0b71-405c-a2a2-e3c569c5eb26",
   "metadata": {},
   "outputs": [
    {
     "name": "stdout",
     "output_type": "stream",
     "text": [
      "Requirement already satisfied: pyarrow in c:\\users\\user\\anaconda3\\lib\\site-packages (18.1.0)\n"
     ]
    }
   ],
   "source": [
    "!pip install pyarrow\n",
    "\n",
    "import warnings\n",
    "warnings.filterwarnings('ignore')\n",
    "\n",
    "#Import libreirs\n",
    "import pandas as pd\n",
    "import numpy as np\n",
    "import re\n",
    "\n",
    "#Visulizetion\n",
    "import seaborn as sns\n",
    "import matplotlib.pyplot as plt\n",
    "\n",
    "#Surprise\n",
    "#from surprise import KNNBasic,SVD, SVDpp, NMF #Models\n",
    "#from surprise.model_selection import cross_validate,KFold,GridSearchCV #Cross Validate\n",
    "#from surprise import Dataset, Reader #Data Upload\n",
    "\n",
    "#Garbage collector\n",
    "import gc\n",
    "\n",
    "#Random\n",
    "import random\n",
    "#Set random seed\n",
    "RSEED = 10\n",
    "random.seed(RSEED)"
   ]
  },
  {
   "cell_type": "code",
   "execution_count": 4,
   "id": "f7da48ed-210a-44a9-ab67-caa4151ce033",
   "metadata": {},
   "outputs": [
    {
     "data": {
      "text/html": [
       "<div>\n",
       "<style scoped>\n",
       "    .dataframe tbody tr th:only-of-type {\n",
       "        vertical-align: middle;\n",
       "    }\n",
       "\n",
       "    .dataframe tbody tr th {\n",
       "        vertical-align: top;\n",
       "    }\n",
       "\n",
       "    .dataframe thead th {\n",
       "        text-align: right;\n",
       "    }\n",
       "</style>\n",
       "<table border=\"1\" class=\"dataframe\">\n",
       "  <thead>\n",
       "    <tr style=\"text-align: right;\">\n",
       "      <th></th>\n",
       "      <th>picture.id</th>\n",
       "      <th>outfit.id</th>\n",
       "      <th>displayOrder</th>\n",
       "      <th>file_name</th>\n",
       "    </tr>\n",
       "  </thead>\n",
       "  <tbody>\n",
       "    <tr>\n",
       "      <th>0</th>\n",
       "      <td>picture.0000cdba64314d84a49ed1c266589cc0</td>\n",
       "      <td>outfit.794483397da8425a813301eecf9828c6</td>\n",
       "      <td>0</td>\n",
       "      <td>0000cdba64314d84a49ed1c266589cc0.jpg</td>\n",
       "    </tr>\n",
       "    <tr>\n",
       "      <th>1</th>\n",
       "      <td>picture.00058abb53434872ae9bb4270ae21f8e</td>\n",
       "      <td>outfit.98f32aaf08bc4ff09c44e6e11e9199bc</td>\n",
       "      <td>2</td>\n",
       "      <td>00058abb53434872ae9bb4270ae21f8e.jpg</td>\n",
       "    </tr>\n",
       "    <tr>\n",
       "      <th>2</th>\n",
       "      <td>picture.00063f52c36d43ada95da45f819b30b4</td>\n",
       "      <td>outfit.9fd1c42c3db543c5b6e53b0db1ee8c0f</td>\n",
       "      <td>3</td>\n",
       "      <td>00063f52c36d43ada95da45f819b30b4.jpg</td>\n",
       "    </tr>\n",
       "    <tr>\n",
       "      <th>3</th>\n",
       "      <td>picture.0008443461814f5c988f123718bbd20e</td>\n",
       "      <td>outfit.a7539783b6e94591bdf4e10339afc1d7</td>\n",
       "      <td>3</td>\n",
       "      <td>0008443461814f5c988f123718bbd20e.jpg</td>\n",
       "    </tr>\n",
       "    <tr>\n",
       "      <th>4</th>\n",
       "      <td>picture.000a5db3362049aebcc1eb2bf7bde95f</td>\n",
       "      <td>outfit.745fa2bc8156478bac6c0f7d46dadbda</td>\n",
       "      <td>1</td>\n",
       "      <td>000a5db3362049aebcc1eb2bf7bde95f.jpg</td>\n",
       "    </tr>\n",
       "  </tbody>\n",
       "</table>\n",
       "</div>"
      ],
      "text/plain": [
       "                                 picture.id  \\\n",
       "0  picture.0000cdba64314d84a49ed1c266589cc0   \n",
       "1  picture.00058abb53434872ae9bb4270ae21f8e   \n",
       "2  picture.00063f52c36d43ada95da45f819b30b4   \n",
       "3  picture.0008443461814f5c988f123718bbd20e   \n",
       "4  picture.000a5db3362049aebcc1eb2bf7bde95f   \n",
       "\n",
       "                                 outfit.id  displayOrder  \\\n",
       "0  outfit.794483397da8425a813301eecf9828c6             0   \n",
       "1  outfit.98f32aaf08bc4ff09c44e6e11e9199bc             2   \n",
       "2  outfit.9fd1c42c3db543c5b6e53b0db1ee8c0f             3   \n",
       "3  outfit.a7539783b6e94591bdf4e10339afc1d7             3   \n",
       "4  outfit.745fa2bc8156478bac6c0f7d46dadbda             1   \n",
       "\n",
       "                              file_name  \n",
       "0  0000cdba64314d84a49ed1c266589cc0.jpg  \n",
       "1  00058abb53434872ae9bb4270ae21f8e.jpg  \n",
       "2  00063f52c36d43ada95da45f819b30b4.jpg  \n",
       "3  0008443461814f5c988f123718bbd20e.jpg  \n",
       "4  000a5db3362049aebcc1eb2bf7bde95f.jpg  "
      ]
     },
     "execution_count": 4,
     "metadata": {},
     "output_type": "execute_result"
    }
   ],
   "source": [
    "picture_triplets=pd.read_parquet('../archive/data/picture_triplets.parquet',engine='pyarrow')\n",
    "picture_triplets.head()"
   ]
  },
  {
   "cell_type": "code",
   "execution_count": 7,
   "id": "5a5bae17-0bc7-4918-a7b6-eddd96c60762",
   "metadata": {},
   "outputs": [
    {
     "data": {
      "text/plain": [
       "(50193, 4)"
      ]
     },
     "execution_count": 7,
     "metadata": {},
     "output_type": "execute_result"
    }
   ],
   "source": [
    "picture_triplets.shape"
   ]
  },
  {
   "cell_type": "code",
   "execution_count": 10,
   "id": "71425a7f-a55c-47e7-9160-ad318ed08243",
   "metadata": {},
   "outputs": [
    {
     "data": {
      "text/plain": [
       "15157"
      ]
     },
     "execution_count": 10,
     "metadata": {},
     "output_type": "execute_result"
    }
   ],
   "source": [
    "picture_triplets['outfit.id'].nunique()"
   ]
  },
  {
   "cell_type": "code",
   "execution_count": 14,
   "id": "4945a172-5e3c-4afe-9351-85a0358f7c7a",
   "metadata": {},
   "outputs": [],
   "source": [
    "# Group by outfit.id and count the number of pictures\n",
    "outfit_picture_count = picture_triplets.groupby('outfit.id')['picture.id'].count()"
   ]
  },
  {
   "cell_type": "code",
   "execution_count": 14,
   "id": "5f066f94-0ce1-41fe-bc66-b26af811800f",
   "metadata": {},
   "outputs": [
    {
     "name": "stdout",
     "output_type": "stream",
     "text": [
      "Mean: 3.311539222801346\n",
      "Standard Deviation: 1.938090901897477\n",
      "Minimum: 1\n",
      "Median: 3.0\n",
      "Maximum: 28\n"
     ]
    }
   ],
   "source": [
    "# Calculate the statistics\n",
    "mean_count = outfit_picture_count.mean()\n",
    "std_count = outfit_picture_count.std()\n",
    "min_count = outfit_picture_count.min()\n",
    "median_count = outfit_picture_count.median()\n",
    "max_count = outfit_picture_count.max()\n",
    "\n",
    "# Display the results\n",
    "print(f\"Mean: {mean_count}\")\n",
    "print(f\"Standard Deviation: {std_count}\")\n",
    "print(f\"Minimum: {min_count}\")\n",
    "print(f\"Median: {median_count}\")\n",
    "print(f\"Maximum: {max_count}\")"
   ]
  },
  {
   "cell_type": "code",
   "execution_count": 28,
   "id": "192db029-3ba1-41d7-8005-093e43e6a11a",
   "metadata": {},
   "outputs": [
    {
     "name": "stdout",
     "output_type": "stream",
     "text": [
      "Number of Outfits with picture count above one standard deviations:1782\n",
      "0.11756943986276967\n"
     ]
    }
   ],
   "source": [
    "# Filter outfits with picture count above one standard deviation\n",
    "above_std_outfits = outfit_picture_count[outfit_picture_count > (mean_count + std_count)]\n",
    "\n",
    "# Display the results\n",
    "print(\"Number of Outfits with picture count above one standard deviations:\"+ str(len(above_std_outfits)))\n",
    "print(len(above_std_outfits)/picture_triplets['outfit.id'].nunique())"
   ]
  },
  {
   "cell_type": "code",
   "execution_count": 30,
   "id": "203a72e8-8816-4618-9696-9c54b93ac27a",
   "metadata": {},
   "outputs": [
    {
     "name": "stdout",
     "output_type": "stream",
     "text": [
      "Number of Outfits with picture count above two standard deviations:446\n",
      "0.029425348024015308\n"
     ]
    }
   ],
   "source": [
    "# Filter outfits with picture count above one standard deviation\n",
    "above_std_outfits = outfit_picture_count[outfit_picture_count > (mean_count + 2*std_count)]\n",
    "\n",
    "# Display the results\n",
    "print(\"Number of Outfits with picture count above two standard deviations:\"+ str(len(above_std_outfits)))\n",
    "print(len(above_std_outfits)/picture_triplets['outfit.id'].nunique())"
   ]
  },
  {
   "cell_type": "code",
   "execution_count": 32,
   "id": "229a6cb1-cd0f-413e-ab0a-b5221296dc74",
   "metadata": {},
   "outputs": [
    {
     "name": "stdout",
     "output_type": "stream",
     "text": [
      "Number of Outfits with picture count above three standard deviations:177\n",
      "0.011677772646302039\n"
     ]
    }
   ],
   "source": [
    "# Filter outfits with picture count above one standard deviation\n",
    "above_std_outfits = outfit_picture_count[outfit_picture_count > (mean_count + 3*std_count)]\n",
    "\n",
    "# Display the results\n",
    "print(\"Number of Outfits with picture count above three standard deviations:\"+ str(len(above_std_outfits)))\n",
    "print(len(above_std_outfits)/picture_triplets['outfit.id'].nunique())"
   ]
  },
  {
   "cell_type": "code",
   "execution_count": 36,
   "id": "c7835802-ef07-4363-803d-f7afb5a5a9c8",
   "metadata": {},
   "outputs": [
    {
     "data": {
      "image/png": "[encoded data removed]",
      "text/plain": [
       "<Figure size 1000x600 with 1 Axes>"
      ]
     },
     "metadata": {},
     "output_type": "display_data"
    }
   ],
   "source": [
    "# Plot the distribution\n",
    "plt.figure(figsize=(10,6))\n",
    "plt.hist(outfit_picture_count, bins=range(1, outfit_picture_count.max() + 2), edgecolor='black')\n",
    "plt.title('Distribution of Picture Counts per Outfit')\n",
    "plt.xlabel('Number of Pictures')\n",
    "plt.ylabel('Frequency')\n",
    "plt.xticks(range(1, outfit_picture_count.max() + 1))\n",
    "plt.grid(axis='y')\n",
    "\n",
    "# Show the plot\n",
    "plt.show()"
   ]
  },
  {
   "cell_type": "code",
   "execution_count": 5,
   "id": "cc6c322d-ae32-40c4-973c-1774cdf86fe4",
   "metadata": {},
   "outputs": [],
   "source": [
    "data = np.load('../archive/embeddings/EfficientNet_V2_L_final/picture.0000cdba64314d84a49ed1c266589cc0.npy')"
   ]
  },
  {
   "cell_type": "code",
   "execution_count": 7,
   "id": "458e3349-3919-4baa-861f-05e740b49133",
   "metadata": {},
   "outputs": [
    {
     "data": {
      "text/plain": [
       "array([-0.109  , -0.08044, -0.1355 , ...,  0.2272 , -0.063  , -0.10565],\n",
       "      dtype=float16)"
      ]
     },
     "execution_count": 7,
     "metadata": {},
     "output_type": "execute_result"
    }
   ],
   "source": [
    "data"
   ]
  },
  {
   "cell_type": "code",
   "execution_count": null,
   "id": "a0c8923a-69ad-4dbb-aa95-c9710bf8d9f9",
   "metadata": {},
   "outputs": [],
   "source": []
  }
 ],
 "metadata": {
  "kernelspec": {
   "display_name": "Python 3 (ipykernel)",
   "language": "python",
   "name": "python3"
  },
  "language_info": {
   "codemirror_mode": {
    "name": "ipython",
    "version": 3
   },
   "file_extension": ".py",
   "mimetype": "text/x-python",
   "name": "python",
   "nbconvert_exporter": "python",
   "pygments_lexer": "ipython3",
   "version": "3.9.13"
  }
 },
 "nbformat": 4,
 "nbformat_minor": 5
}
